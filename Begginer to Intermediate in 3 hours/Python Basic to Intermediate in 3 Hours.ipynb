{
 "cells": [
  {
   "cell_type": "markdown",
   "id": "763fb7a5-85ad-4bf4-97fd-724b002015bf",
   "metadata": {},
   "source": [
    "# Python Basic to Intermediate in 3 Hours"
   ]
  },
  {
   "cell_type": "markdown",
   "id": "40313bbc-ba3b-4ede-9827-bfb6d3a2ed12",
   "metadata": {},
   "source": [
    "# Variables: A variable is just a container for storing data values. We can assign a number or a string and assign it to a variable, and the variable carry and contain whatever we put into it."
   ]
  },
  {
   "cell_type": "code",
   "execution_count": 1,
   "id": "194f7085-bf7e-4cd5-973c-b426e70322d6",
   "metadata": {},
   "outputs": [
    {
     "name": "stdout",
     "output_type": "stream",
     "text": [
      "2\n"
     ]
    }
   ],
   "source": [
    "x= 2\n",
    "\n",
    "print(x)"
   ]
  },
  {
   "cell_type": "code",
   "execution_count": 5,
   "id": "376ce49a-c3f5-40fa-ab5a-033338570870",
   "metadata": {},
   "outputs": [
    {
     "name": "stdout",
     "output_type": "stream",
     "text": [
      "5\n"
     ]
    }
   ],
   "source": [
    "y= 5\n",
    "\n",
    "print (y)"
   ]
  },
  {
   "cell_type": "code",
   "execution_count": 6,
   "id": "898af216-b776-4059-9b52-0f1849599fc6",
   "metadata": {},
   "outputs": [
    {
     "name": "stdout",
     "output_type": "stream",
     "text": [
      "Cookie\n"
     ]
    }
   ],
   "source": [
    "x= 'Cookie'\n",
    "\n",
    "print(x)"
   ]
  },
  {
   "cell_type": "code",
   "execution_count": 7,
   "id": "420ea541-2153-4cd6-a942-d88dea0cfcf1",
   "metadata": {},
   "outputs": [
    {
     "name": "stdout",
     "output_type": "stream",
     "text": [
      "Ice Cream\n"
     ]
    }
   ],
   "source": [
    "y= 'Ice Cream'\n",
    "\n",
    "print (y)"
   ]
  },
  {
   "cell_type": "code",
   "execution_count": 4,
   "id": "88c39e71-ad59-49dd-916d-11ace473a4fc",
   "metadata": {},
   "outputs": [
    {
     "name": "stdout",
     "output_type": "stream",
     "text": [
      "Cookie Ice Cream\n",
      "Cookie\n",
      "Ice Cream\n"
     ]
    }
   ],
   "source": [
    "x,y= 'Cookie', 'Ice Cream'\n",
    "\n",
    "print (x,y)\n",
    "print (x)\n",
    "print (y)"
   ]
  },
  {
   "cell_type": "code",
   "execution_count": 8,
   "id": "3a1bdbc0-40b5-4899-8e8c-24c7d0bceb7f",
   "metadata": {},
   "outputs": [
    {
     "data": {
      "text/plain": [
       "int"
      ]
     },
     "execution_count": 8,
     "metadata": {},
     "output_type": "execute_result"
    }
   ],
   "source": [
    "x= 3\n",
    "\n",
    "type(x)"
   ]
  },
  {
   "cell_type": "code",
   "execution_count": 9,
   "id": "766ec6d1-e389-40d1-b4bb-89d6679433a7",
   "metadata": {},
   "outputs": [
    {
     "data": {
      "text/plain": [
       "str"
      ]
     },
     "execution_count": 9,
     "metadata": {},
     "output_type": "execute_result"
    }
   ],
   "source": [
    "x= 'Cookie'\n",
    "\n",
    "type(x)"
   ]
  },
  {
   "cell_type": "code",
   "execution_count": 11,
   "id": "19efe534-a4e3-4972-8ebe-1dc198a8f099",
   "metadata": {},
   "outputs": [
    {
     "name": "stdout",
     "output_type": "stream",
     "text": [
      "Beer\n"
     ]
    }
   ],
   "source": [
    "#overwritting variables\n",
    "\n",
    "x= 'Ice Cream'\n",
    "\n",
    "x= 'Beer' \n",
    "print(x)"
   ]
  },
  {
   "cell_type": "code",
   "execution_count": 12,
   "id": "67486597-3758-46e4-b2dc-71b83000089c",
   "metadata": {},
   "outputs": [
    {
     "name": "stdout",
     "output_type": "stream",
     "text": [
      "Beer\n"
     ]
    }
   ],
   "source": [
    "#Variables are case sensitive\n",
    "x= 'Cookie'\n",
    "\n",
    "X= 'Beer'\n",
    "\n",
    "print(X)"
   ]
  },
  {
   "cell_type": "code",
   "execution_count": 13,
   "id": "c97316df-71aa-4509-aa5f-7ddd434fd98b",
   "metadata": {},
   "outputs": [
    {
     "name": "stdout",
     "output_type": "stream",
     "text": [
      "Ice Cream\n",
      "Chocolate\n",
      "Beer\n"
     ]
    }
   ],
   "source": [
    "x,y,z= 'Ice Cream','Chocolate','Beer'\n",
    "\n",
    "print(x)\n",
    "print(y)\n",
    "print(z)"
   ]
  },
  {
   "cell_type": "code",
   "execution_count": 14,
   "id": "a876fb65-e192-463d-904b-69a8520dae8a",
   "metadata": {},
   "outputs": [
    {
     "name": "stdout",
     "output_type": "stream",
     "text": [
      "Ice Cream\n",
      "Ice Cream\n",
      "Ice Cream\n"
     ]
    }
   ],
   "source": [
    "x= y= z= 'Ice Cream'\n",
    "\n",
    "print(x)\n",
    "print(y)\n",
    "print(z)"
   ]
  },
  {
   "cell_type": "code",
   "execution_count": 16,
   "id": "519f6c71-6ecd-4718-9423-97cd15da08ea",
   "metadata": {},
   "outputs": [
    {
     "name": "stdout",
     "output_type": "stream",
     "text": [
      "Chocolate\n",
      "Beer\n",
      "Cookie\n"
     ]
    }
   ],
   "source": [
    "#Creating List\n",
    "ice_cream= ['Chocolate','Beer','Cookie']\n",
    "\n",
    "x, y, z= ice_cream\n",
    "\n",
    "print(x)\n",
    "print(y)\n",
    "print(z)"
   ]
  },
  {
   "cell_type": "code",
   "execution_count": null,
   "id": "6fb2ba63-b550-4e25-b1e8-9308d63deb51",
   "metadata": {},
   "outputs": [],
   "source": [
    "#Ways to write variables\n",
    "\n",
    "#Camel Case\n",
    "\n",
    "#Test Variable Case\n",
    "\n",
    "testVariableCase = 'Vanilla'"
   ]
  },
  {
   "cell_type": "code",
   "execution_count": null,
   "id": "21c94635-2b4e-4d81-a0f5-38b909e9f274",
   "metadata": {},
   "outputs": [],
   "source": [
    "#Pascal Case\n",
    "\n",
    "#Test Variable Case\n",
    "\n",
    "TestVariableCase = 'Vanilla'"
   ]
  },
  {
   "cell_type": "code",
   "execution_count": null,
   "id": "1f80d7f9-832a-41d2-8a75-9ac00a60f5a3",
   "metadata": {},
   "outputs": [],
   "source": [
    "#Snake Case (Best Way)\n",
    "\n",
    "#Test Variable Case\n",
    "\n",
    "test_variable_case = 'Vanilla'\n",
    "\n",
    "test_var_case = 'Vanilla'\n",
    "testvar = 'Vanilla'\n",
    "test_var1 = 'Vanilla'"
   ]
  },
  {
   "cell_type": "code",
   "execution_count": 17,
   "id": "a333b47e-cbf5-48cd-a09d-33b6b741750d",
   "metadata": {},
   "outputs": [
    {
     "name": "stdout",
     "output_type": "stream",
     "text": [
      "I like Vanilla.\n"
     ]
    }
   ],
   "source": [
    "#Combining strings with + sign\n",
    "\n",
    "x= 'I like Vanilla' + '.'\n",
    "\n",
    "print(x)"
   ]
  },
  {
   "cell_type": "code",
   "execution_count": null,
   "id": "224629c3-c26a-4cf9-b17c-bbd2fd759f78",
   "metadata": {},
   "outputs": [],
   "source": [
    "#Arthametic Opeartions (+, -, /, *)"
   ]
  },
  {
   "cell_type": "code",
   "execution_count": 18,
   "id": "340f716a-392d-49cf-9220-1513e855e648",
   "metadata": {},
   "outputs": [
    {
     "name": "stdout",
     "output_type": "stream",
     "text": [
      "6\n"
     ]
    }
   ],
   "source": [
    "x= 2+4\n",
    "\n",
    "print(x)"
   ]
  },
  {
   "cell_type": "code",
   "execution_count": 19,
   "id": "8b2b53f2-faab-492a-b81b-436c8a589eda",
   "metadata": {},
   "outputs": [
    {
     "name": "stdout",
     "output_type": "stream",
     "text": [
      "2\n"
     ]
    }
   ],
   "source": [
    "x= 5-3\n",
    "\n",
    "print(x)"
   ]
  },
  {
   "cell_type": "code",
   "execution_count": 20,
   "id": "363125da-0368-4a64-b27b-89b1432fcbdb",
   "metadata": {},
   "outputs": [
    {
     "name": "stdout",
     "output_type": "stream",
     "text": [
      "2.0\n"
     ]
    }
   ],
   "source": [
    "x= 10/5\n",
    "\n",
    "print(x)"
   ]
  },
  {
   "cell_type": "code",
   "execution_count": 45,
   "id": "76a7cf63-da1a-430b-b1c8-a23691644036",
   "metadata": {},
   "outputs": [
    {
     "name": "stdout",
     "output_type": "stream",
     "text": [
      "224\n"
     ]
    }
   ],
   "source": [
    "x= 8*28\n",
    "\n",
    "print(x)"
   ]
  },
  {
   "cell_type": "markdown",
   "id": "b43eeb52-747d-4cc2-baf5-8b1cae60690f",
   "metadata": {},
   "source": [
    "# Data Types: The classification of the data that we are storing, these classifications tell us what operations can be performed on our data"
   ]
  },
  {
   "cell_type": "markdown",
   "id": "2ee359ec-c076-4b88-9016-d71811469ea4",
   "metadata": {},
   "source": [
    "# Numeric"
   ]
  },
  {
   "cell_type": "code",
   "execution_count": 24,
   "id": "280c8846-96cc-4c0d-8990-07819e5a88fe",
   "metadata": {},
   "outputs": [],
   "source": [
    "# There are three types: \n",
    "# 1) Integer (Positive and negative wholw number)\n",
    "# 2) Float (A decimal number, not a whole number)\n",
    "# 3) Complex (Imaginary Values)"
   ]
  },
  {
   "cell_type": "code",
   "execution_count": 25,
   "id": "ba599a9e-5280-4f12-9d9b-97ceaf529cd4",
   "metadata": {},
   "outputs": [
    {
     "data": {
      "text/plain": [
       "int"
      ]
     },
     "execution_count": 25,
     "metadata": {},
     "output_type": "execute_result"
    }
   ],
   "source": [
    "type (-10 + 19)"
   ]
  },
  {
   "cell_type": "code",
   "execution_count": 26,
   "id": "87166337-7282-407e-bb5b-a7c3f83103be",
   "metadata": {},
   "outputs": [
    {
     "data": {
      "text/plain": [
       "float"
      ]
     },
     "execution_count": 26,
     "metadata": {},
     "output_type": "execute_result"
    }
   ],
   "source": [
    "type (12 + 36.67)"
   ]
  },
  {
   "cell_type": "code",
   "execution_count": 27,
   "id": "b16da0fe-b246-40a3-9f51-2e2face891f7",
   "metadata": {},
   "outputs": [
    {
     "data": {
      "text/plain": [
       "complex"
      ]
     },
     "execution_count": 27,
     "metadata": {},
     "output_type": "execute_result"
    }
   ],
   "source": [
    "type (12 + 4j)"
   ]
  },
  {
   "cell_type": "markdown",
   "id": "5154d1d6-6fd4-4bde-bacb-f02f0711004d",
   "metadata": {},
   "source": [
    "# Boolean"
   ]
  },
  {
   "cell_type": "code",
   "execution_count": 29,
   "id": "4e6e53ef-ca56-47fe-ac8d-3ebdfc4a07cd",
   "metadata": {},
   "outputs": [
    {
     "data": {
      "text/plain": [
       "bool"
      ]
     },
     "execution_count": 29,
     "metadata": {},
     "output_type": "execute_result"
    }
   ],
   "source": [
    "#Boolean has only two built in values either True or False\n",
    "\n",
    "type (True)"
   ]
  },
  {
   "cell_type": "code",
   "execution_count": 30,
   "id": "e146d80c-73d1-491c-9fee-1f8a40cf2da1",
   "metadata": {},
   "outputs": [
    {
     "data": {
      "text/plain": [
       "bool"
      ]
     },
     "execution_count": 30,
     "metadata": {},
     "output_type": "execute_result"
    }
   ],
   "source": [
    "type (False)"
   ]
  },
  {
   "cell_type": "code",
   "execution_count": 31,
   "id": "def88e3c-662d-4b1f-8668-b4363ac51e40",
   "metadata": {},
   "outputs": [
    {
     "data": {
      "text/plain": [
       "bool"
      ]
     },
     "execution_count": 31,
     "metadata": {},
     "output_type": "execute_result"
    }
   ],
   "source": [
    "type (1>5)"
   ]
  },
  {
   "cell_type": "code",
   "execution_count": 32,
   "id": "f17058bd-4ece-4b77-804d-81d78009cc2c",
   "metadata": {},
   "outputs": [
    {
     "data": {
      "text/plain": [
       "False"
      ]
     },
     "execution_count": 32,
     "metadata": {},
     "output_type": "execute_result"
    }
   ],
   "source": [
    "1>5"
   ]
  },
  {
   "cell_type": "code",
   "execution_count": 33,
   "id": "a9a078ec-b745-433c-8575-af9c8cc0b490",
   "metadata": {},
   "outputs": [
    {
     "data": {
      "text/plain": [
       "True"
      ]
     },
     "execution_count": 33,
     "metadata": {},
     "output_type": "execute_result"
    }
   ],
   "source": [
    "1 == 1"
   ]
  },
  {
   "cell_type": "markdown",
   "id": "87173e75-b115-4f6b-9832-a835a4ab420c",
   "metadata": {},
   "source": [
    "# Sequence type data types"
   ]
  },
  {
   "cell_type": "markdown",
   "id": "3784ffe6-a009-46e9-99c1-2cf22afc4060",
   "metadata": {},
   "source": [
    "# Strings: Strings are arrays of byes representing Unicode Characters. While using strings we put them in a single quote, double quote or a truple quote"
   ]
  },
  {
   "cell_type": "code",
   "execution_count": 35,
   "id": "853c51cd-3ca4-4138-8d46-a7b95c9e3cc0",
   "metadata": {},
   "outputs": [
    {
     "data": {
      "text/plain": [
       "'Single Quote'"
      ]
     },
     "execution_count": 35,
     "metadata": {},
     "output_type": "execute_result"
    }
   ],
   "source": [
    "'Single Quote'"
   ]
  },
  {
   "cell_type": "code",
   "execution_count": 36,
   "id": "59592706-9f1a-4383-91f5-59a7a8ed3996",
   "metadata": {},
   "outputs": [
    {
     "data": {
      "text/plain": [
       "'Double Quote'"
      ]
     },
     "execution_count": 36,
     "metadata": {},
     "output_type": "execute_result"
    }
   ],
   "source": [
    "\"Double Quote\""
   ]
  },
  {
   "cell_type": "code",
   "execution_count": 39,
   "id": "ce044d41-4651-4d4f-be83-ff4cd44e29f0",
   "metadata": {},
   "outputs": [],
   "source": [
    "multiline= \"\"\"\n",
    "Today the weather is so\n",
    "peaceful, there is no wind\n",
    "today.\n",
    "\"\"\""
   ]
  },
  {
   "cell_type": "code",
   "execution_count": 40,
   "id": "c021bb10-3f8c-439f-8d56-e469bc72e4c2",
   "metadata": {},
   "outputs": [
    {
     "name": "stdout",
     "output_type": "stream",
     "text": [
      "\n",
      "Today the weather is so\n",
      "peaceful, there is no wind\n",
      "today.\n",
      "\n"
     ]
    }
   ],
   "source": [
    "print(multiline)"
   ]
  },
  {
   "cell_type": "code",
   "execution_count": 41,
   "id": "c8df8c11-519f-4a88-9695-78105037b179",
   "metadata": {},
   "outputs": [],
   "source": [
    "# Strings can be Indexed, Index means we can search within it\n",
    "\n",
    "a= 'hello world!'"
   ]
  },
  {
   "cell_type": "code",
   "execution_count": 42,
   "id": "d2ce3e09-5043-439a-8783-6acf356ba816",
   "metadata": {},
   "outputs": [
    {
     "name": "stdout",
     "output_type": "stream",
     "text": [
      "hello\n"
     ]
    }
   ],
   "source": [
    "print(a[:5])"
   ]
  },
  {
   "cell_type": "code",
   "execution_count": 43,
   "id": "9412c2bd-ef42-4dcc-9354-22d45247f6d1",
   "metadata": {},
   "outputs": [
    {
     "name": "stdout",
     "output_type": "stream",
     "text": [
      "o\n"
     ]
    }
   ],
   "source": [
    "print(a[4])"
   ]
  },
  {
   "cell_type": "code",
   "execution_count": 44,
   "id": "683f07c6-2afd-4f9a-98de-1f1607a9574e",
   "metadata": {},
   "outputs": [
    {
     "name": "stdout",
     "output_type": "stream",
     "text": [
      "llo\n"
     ]
    }
   ],
   "source": [
    "print(a[2:5])"
   ]
  },
  {
   "cell_type": "code",
   "execution_count": 48,
   "id": "40877bae-9098-4e57-8d71-20a53990a5f3",
   "metadata": {},
   "outputs": [
    {
     "data": {
      "text/plain": [
       "'hello world!hello world!hello world!'"
      ]
     },
     "execution_count": 48,
     "metadata": {},
     "output_type": "execute_result"
    }
   ],
   "source": [
    "a*3"
   ]
  },
  {
   "cell_type": "code",
   "execution_count": 49,
   "id": "5102ed1e-5121-49ba-8275-d185f66a1139",
   "metadata": {},
   "outputs": [
    {
     "data": {
      "text/plain": [
       "'hello world!hello world!'"
      ]
     },
     "execution_count": 49,
     "metadata": {},
     "output_type": "execute_result"
    }
   ],
   "source": [
    "a + a"
   ]
  },
  {
   "cell_type": "code",
   "execution_count": null,
   "id": "a870ba7b-dc48-4afd-838d-d95d38826eab",
   "metadata": {},
   "outputs": [],
   "source": []
  },
  {
   "cell_type": "markdown",
   "id": "20bf2331-ade5-4255-8f65-b863aa657676",
   "metadata": {},
   "source": [
    "# Lists: They store multiple values"
   ]
  },
  {
   "cell_type": "code",
   "execution_count": 51,
   "id": "cafcf8c1-eee7-4196-8894-a47abc5bd028",
   "metadata": {},
   "outputs": [
    {
     "data": {
      "text/plain": [
       "[1, 2, 3]"
      ]
     },
     "execution_count": 51,
     "metadata": {},
     "output_type": "execute_result"
    }
   ],
   "source": [
    "[1, 2, 3]"
   ]
  },
  {
   "cell_type": "code",
   "execution_count": 52,
   "id": "be9ba6e0-0023-4a69-b076-7e0914e608cc",
   "metadata": {},
   "outputs": [
    {
     "data": {
      "text/plain": [
       "['Cookie', 'Beer', 'Chocolate']"
      ]
     },
     "execution_count": 52,
     "metadata": {},
     "output_type": "execute_result"
    }
   ],
   "source": [
    "['Cookie', 'Beer', 'Chocolate']"
   ]
  },
  {
   "cell_type": "code",
   "execution_count": null,
   "id": "0902a7a1-4ee2-46c1-b115-bc007e33e902",
   "metadata": {},
   "outputs": [],
   "source": [
    "#Nested List: A list inisde a List"
   ]
  },
  {
   "cell_type": "code",
   "execution_count": 53,
   "id": "b638d7e8-11dc-4bae-9ae4-47b4fb967fc8",
   "metadata": {},
   "outputs": [
    {
     "data": {
      "text/plain": [
       "['Vanilla', 3, ['Scoops', 'Spoon'], True]"
      ]
     },
     "execution_count": 53,
     "metadata": {},
     "output_type": "execute_result"
    }
   ],
   "source": [
    "['Vanilla', 3, ['Scoops', 'Spoon'], True]"
   ]
  },
  {
   "cell_type": "code",
   "execution_count": 54,
   "id": "29b65238-26f0-47a5-a110-35ebd51a2822",
   "metadata": {},
   "outputs": [
    {
     "data": {
      "text/plain": [
       "['Cookie', 'Beer', 'Chocolate', 'Salted Caramel']"
      ]
     },
     "execution_count": 54,
     "metadata": {},
     "output_type": "execute_result"
    }
   ],
   "source": [
    "items= ['Cookie', 'Beer', 'Chocolate']\n",
    "\n",
    "items.append('Salted Caramel')\n",
    "\n",
    "items"
   ]
  },
  {
   "cell_type": "code",
   "execution_count": 56,
   "id": "c83d78de-f6d2-4319-b7ff-6ed120fb3152",
   "metadata": {},
   "outputs": [
    {
     "data": {
      "text/plain": [
       "['Butter Pecan', 'Beer', 'Chocolate', 'Salted Caramel']"
      ]
     },
     "execution_count": 56,
     "metadata": {},
     "output_type": "execute_result"
    }
   ],
   "source": [
    "items[0] = 'Butter Pecan'\n",
    "\n",
    "items"
   ]
  },
  {
   "cell_type": "code",
   "execution_count": 57,
   "id": "baa3b973-c3c3-45d5-abd7-1210cf30f2d6",
   "metadata": {},
   "outputs": [],
   "source": [
    "nest_list= ['Vanilla', 3, ['Scoops', 'Spoon'], True]"
   ]
  },
  {
   "cell_type": "code",
   "execution_count": 58,
   "id": "0c6089bd-baf1-43f9-a1b5-b471becde270",
   "metadata": {},
   "outputs": [
    {
     "data": {
      "text/plain": [
       "['Scoops', 'Spoon']"
      ]
     },
     "execution_count": 58,
     "metadata": {},
     "output_type": "execute_result"
    }
   ],
   "source": [
    "nest_list[2]"
   ]
  },
  {
   "cell_type": "code",
   "execution_count": 59,
   "id": "e3ae06d5-5ad3-4995-b7a8-ed4472e8eddc",
   "metadata": {},
   "outputs": [
    {
     "data": {
      "text/plain": [
       "3"
      ]
     },
     "execution_count": 59,
     "metadata": {},
     "output_type": "execute_result"
    }
   ],
   "source": [
    "nest_list[1]"
   ]
  },
  {
   "cell_type": "code",
   "execution_count": 65,
   "id": "80634a12-deab-4226-b86f-bef431a4aeed",
   "metadata": {},
   "outputs": [],
   "source": [
    "# Tuples: A list and Tuple are identical but the Tuple are immutable. Means it cannot be changed or modified after it's created"
   ]
  },
  {
   "cell_type": "code",
   "execution_count": 61,
   "id": "f1770941-7810-4c45-bcef-8f9bcc82d491",
   "metadata": {},
   "outputs": [],
   "source": [
    "tuple_scoops= (1, 2, 3, 2, 1)"
   ]
  },
  {
   "cell_type": "code",
   "execution_count": 62,
   "id": "aad437ea-75c0-4270-86ee-39588439c009",
   "metadata": {},
   "outputs": [
    {
     "data": {
      "text/plain": [
       "tuple"
      ]
     },
     "execution_count": 62,
     "metadata": {},
     "output_type": "execute_result"
    }
   ],
   "source": [
    "type(tuple_scoops)"
   ]
  },
  {
   "cell_type": "code",
   "execution_count": 63,
   "id": "d8dc5b2a-5c67-4a91-9ddf-c8564833ee3a",
   "metadata": {},
   "outputs": [
    {
     "data": {
      "text/plain": [
       "1"
      ]
     },
     "execution_count": 63,
     "metadata": {},
     "output_type": "execute_result"
    }
   ],
   "source": [
    "tuple_scoops[0]"
   ]
  },
  {
   "cell_type": "code",
   "execution_count": 64,
   "id": "8ff5bc6a-089f-4ae2-aeef-fae3d9eaddbc",
   "metadata": {},
   "outputs": [],
   "source": [
    "#We cannot append any value to the tuple, beacuse it's immutable"
   ]
  },
  {
   "cell_type": "code",
   "execution_count": null,
   "id": "18c77856-f9a6-4946-a934-6b489e86c7c4",
   "metadata": {},
   "outputs": [],
   "source": []
  },
  {
   "cell_type": "code",
   "execution_count": 67,
   "id": "2a3da6e5-a400-4cb6-96bb-d767bb5f0e21",
   "metadata": {},
   "outputs": [],
   "source": [
    "# Sets: Sets are similar to lists and tuples but they dont have duplicate values. Another difference is set cannot be accessed using an index because it doesnt have an index beacuse it is unordered."
   ]
  },
  {
   "cell_type": "code",
   "execution_count": 68,
   "id": "08981485-5711-41af-98d6-13ba6b34ff51",
   "metadata": {},
   "outputs": [],
   "source": [
    "daily_pints= {1, 2, 3}"
   ]
  },
  {
   "cell_type": "code",
   "execution_count": 69,
   "id": "ba8ba839-b1b9-4f9c-a76c-1aae58407447",
   "metadata": {},
   "outputs": [
    {
     "data": {
      "text/plain": [
       "set"
      ]
     },
     "execution_count": 69,
     "metadata": {},
     "output_type": "execute_result"
    }
   ],
   "source": [
    "type(daily_pints)"
   ]
  },
  {
   "cell_type": "code",
   "execution_count": 76,
   "id": "8097213f-2ab3-4fd1-8da0-1dd68879733b",
   "metadata": {},
   "outputs": [],
   "source": [
    "daily_pints_logs= {1,4,66,7,8,34,4,3,66,1,4,9,10,4,2}"
   ]
  },
  {
   "cell_type": "code",
   "execution_count": 73,
   "id": "bb0e88b5-9acd-453a-9f98-399522b424e5",
   "metadata": {},
   "outputs": [
    {
     "name": "stdout",
     "output_type": "stream",
     "text": [
      "{1, 66, 3, 34, 4, 2, 7, 8, 9, 10}\n"
     ]
    }
   ],
   "source": [
    "print(daily_pints_logs)"
   ]
  },
  {
   "cell_type": "code",
   "execution_count": 77,
   "id": "30be4c1c-b19d-463e-93b8-bd4234cf816c",
   "metadata": {},
   "outputs": [],
   "source": [
    "wife_daily_pints_log= {1,4,5,6,7,22,66,9,13,4,5,8,3}"
   ]
  },
  {
   "cell_type": "code",
   "execution_count": 75,
   "id": "69ac2c1a-5fbe-49e3-b877-c249b7618319",
   "metadata": {},
   "outputs": [
    {
     "name": "stdout",
     "output_type": "stream",
     "text": [
      "{1, 66, 3, 4, 5, 6, 7, 8, 9, 13, 22}\n"
     ]
    }
   ],
   "source": [
    "print(wife_daily_pints_log)"
   ]
  },
  {
   "cell_type": "code",
   "execution_count": 80,
   "id": "86409fb2-7cca-4e6d-bb7f-6dd9ee2d88f6",
   "metadata": {},
   "outputs": [
    {
     "name": "stdout",
     "output_type": "stream",
     "text": [
      "{1, 66, 3, 4, 2, 5, 7, 8, 9, 10, 6, 13, 22, 34}\n"
     ]
    }
   ],
   "source": [
    "print(daily_pints_logs | wife_daily_pints_log)"
   ]
  },
  {
   "cell_type": "code",
   "execution_count": 81,
   "id": "fa4ce572-9e9c-4c5c-a2c7-efff314738ad",
   "metadata": {},
   "outputs": [],
   "source": [
    "#These are all the unique values between these two sets"
   ]
  },
  {
   "cell_type": "code",
   "execution_count": 82,
   "id": "02e9edc3-781a-4583-97ad-42841f474417",
   "metadata": {},
   "outputs": [
    {
     "name": "stdout",
     "output_type": "stream",
     "text": [
      "{1, 66, 3, 4, 7, 8, 9}\n"
     ]
    }
   ],
   "source": [
    "print(daily_pints_logs & wife_daily_pints_log)"
   ]
  },
  {
   "cell_type": "code",
   "execution_count": 83,
   "id": "5c444c73-69cd-43b3-9961-652bc9643e4a",
   "metadata": {},
   "outputs": [],
   "source": [
    "#These are the common values in the two sets"
   ]
  },
  {
   "cell_type": "code",
   "execution_count": 86,
   "id": "66150fa1-bf42-4f2d-9446-ef932164c381",
   "metadata": {},
   "outputs": [
    {
     "name": "stdout",
     "output_type": "stream",
     "text": [
      "{10, 34, 2}\n"
     ]
    }
   ],
   "source": [
    "print(daily_pints_logs - wife_daily_pints_log)"
   ]
  },
  {
   "cell_type": "code",
   "execution_count": 87,
   "id": "425cca0b-6b7f-4705-bde9-5c847db40f2b",
   "metadata": {},
   "outputs": [
    {
     "name": "stdout",
     "output_type": "stream",
     "text": [
      "{13, 5, 6, 22}\n"
     ]
    }
   ],
   "source": [
    "print(wife_daily_pints_log - daily_pints_logs)"
   ]
  },
  {
   "cell_type": "code",
   "execution_count": 85,
   "id": "853e0cd6-5cc4-4cc3-945d-1784675e6305",
   "metadata": {},
   "outputs": [],
   "source": [
    "#These show what doesnt match in the two sets"
   ]
  },
  {
   "cell_type": "code",
   "execution_count": 88,
   "id": "16d35e3a-3965-421c-8549-ca19c7cffce8",
   "metadata": {},
   "outputs": [
    {
     "name": "stdout",
     "output_type": "stream",
     "text": [
      "{34, 5, 2, 10, 6, 13, 22}\n"
     ]
    }
   ],
   "source": [
    "print(wife_daily_pints_log ^ daily_pints_logs)"
   ]
  },
  {
   "cell_type": "code",
   "execution_count": null,
   "id": "5a9523a7-70d6-41bf-aef0-02dd49e86a8c",
   "metadata": {},
   "outputs": [],
   "source": [
    "#These will show the unique values in thier own sets"
   ]
  },
  {
   "cell_type": "code",
   "execution_count": null,
   "id": "9973bf3b-751e-477b-bccb-b2818061630b",
   "metadata": {},
   "outputs": [],
   "source": []
  },
  {
   "cell_type": "code",
   "execution_count": null,
   "id": "dc46b50d-82f4-4fb8-936e-ff8a312f5227",
   "metadata": {},
   "outputs": [],
   "source": [
    "#Dictionaries: Its not like a list where we just have bunch of values, we have a key that indicates what that value is attributed to"
   ]
  },
  {
   "cell_type": "code",
   "execution_count": 89,
   "id": "85a4ea16-3493-49b8-9e9b-f8aa7b6aa915",
   "metadata": {},
   "outputs": [],
   "source": [
    "dict_cream= {'name': 'Alex', 'weekly intke': 5, 'favoriate ice creams': ['MCC', 'Chocolate']}"
   ]
  },
  {
   "cell_type": "code",
   "execution_count": 90,
   "id": "699c5693-89d2-4a12-b8aa-d45a280ab44d",
   "metadata": {},
   "outputs": [
    {
     "data": {
      "text/plain": [
       "dict"
      ]
     },
     "execution_count": 90,
     "metadata": {},
     "output_type": "execute_result"
    }
   ],
   "source": [
    "type(dict_cream)"
   ]
  },
  {
   "cell_type": "code",
   "execution_count": 91,
   "id": "e3d01b5c-ca23-46dd-9496-e9233918e9f6",
   "metadata": {},
   "outputs": [
    {
     "data": {
      "text/plain": [
       "{'name': 'Alex',\n",
       " 'weekly intke': 5,\n",
       " 'favoriate ice creams': ['MCC', 'Chocolate']}"
      ]
     },
     "execution_count": 91,
     "metadata": {},
     "output_type": "execute_result"
    }
   ],
   "source": [
    "dict_cream"
   ]
  },
  {
   "cell_type": "code",
   "execution_count": 92,
   "id": "7cf72fef-0c23-4c2e-ba27-33ae461db86c",
   "metadata": {},
   "outputs": [
    {
     "data": {
      "text/plain": [
       "dict_values(['Alex', 5, ['MCC', 'Chocolate']])"
      ]
     },
     "execution_count": 92,
     "metadata": {},
     "output_type": "execute_result"
    }
   ],
   "source": [
    "dict_cream.values()"
   ]
  },
  {
   "cell_type": "code",
   "execution_count": 95,
   "id": "eee5ca2f-e30e-4db2-9c8f-082b96a55549",
   "metadata": {},
   "outputs": [
    {
     "data": {
      "text/plain": [
       "dict_keys(['name', 'weekly intke', 'favoriate ice creams'])"
      ]
     },
     "execution_count": 95,
     "metadata": {},
     "output_type": "execute_result"
    }
   ],
   "source": [
    "dict_cream.keys()"
   ]
  },
  {
   "cell_type": "code",
   "execution_count": 96,
   "id": "68edeb59-9952-410c-b885-534716a593fb",
   "metadata": {},
   "outputs": [
    {
     "data": {
      "text/plain": [
       "dict_items([('name', 'Alex'), ('weekly intke', 5), ('favoriate ice creams', ['MCC', 'Chocolate'])])"
      ]
     },
     "execution_count": 96,
     "metadata": {},
     "output_type": "execute_result"
    }
   ],
   "source": [
    "dict_cream.items()"
   ]
  },
  {
   "cell_type": "code",
   "execution_count": 97,
   "id": "9d28bd37-322f-4fed-abd8-37466c263f4b",
   "metadata": {},
   "outputs": [
    {
     "data": {
      "text/plain": [
       "'Alex'"
      ]
     },
     "execution_count": 97,
     "metadata": {},
     "output_type": "execute_result"
    }
   ],
   "source": [
    "dict_cream['name']"
   ]
  },
  {
   "cell_type": "code",
   "execution_count": 98,
   "id": "7c873d74-e4fa-4969-aa79-7bd9c4bd475e",
   "metadata": {},
   "outputs": [
    {
     "name": "stdout",
     "output_type": "stream",
     "text": [
      "{'name': 'Brock', 'weekly intke': 5, 'favoriate ice creams': ['MCC', 'Chocolate']}\n"
     ]
    }
   ],
   "source": [
    "dict_cream['name'] = 'Brock'\n",
    "\n",
    "print(dict_cream)"
   ]
  },
  {
   "cell_type": "code",
   "execution_count": 101,
   "id": "54cbff64-8442-4ac4-8893-5730c2666a90",
   "metadata": {},
   "outputs": [
    {
     "name": "stdout",
     "output_type": "stream",
     "text": [
      "{'name': 'Cassandra', 'weekly intke': 9, 'favoriate ice creams': ['Nandos', 'Butterscotch']}\n"
     ]
    }
   ],
   "source": [
    "dict_cream.update({'name': 'Cassandra', 'weekly intke': 9, 'favoriate ice creams': ['Nandos', 'Butterscotch']})\n",
    "\n",
    "print(dict_cream)"
   ]
  },
  {
   "cell_type": "code",
   "execution_count": 102,
   "id": "0525249a-2edb-4bf7-9455-f73ed480910b",
   "metadata": {},
   "outputs": [
    {
     "name": "stdout",
     "output_type": "stream",
     "text": [
      "{'name': 'Lekhaz', 'weekly intke': 1, 'favoriate ice creams': ['Nandos', 'Butterscotch'], 'weight': 300}\n"
     ]
    }
   ],
   "source": [
    "dict_cream.update({'name': 'Lekhaz', 'weekly intke': 1, 'weight': 300})\n",
    "\n",
    "print(dict_cream)"
   ]
  },
  {
   "cell_type": "code",
   "execution_count": 103,
   "id": "643835e5-6ce3-4265-ba3e-32fbe4200b8c",
   "metadata": {},
   "outputs": [],
   "source": [
    "del dict_cream['weight']"
   ]
  },
  {
   "cell_type": "code",
   "execution_count": 104,
   "id": "205645df-01a1-4512-b846-ef3192889f4a",
   "metadata": {},
   "outputs": [
    {
     "data": {
      "text/plain": [
       "{'name': 'Lekhaz',\n",
       " 'weekly intke': 1,\n",
       " 'favoriate ice creams': ['Nandos', 'Butterscotch']}"
      ]
     },
     "execution_count": 104,
     "metadata": {},
     "output_type": "execute_result"
    }
   ],
   "source": [
    "dict_cream"
   ]
  },
  {
   "cell_type": "code",
   "execution_count": null,
   "id": "84fabc9a-a0fb-4d03-ba3d-14b5230ee8ca",
   "metadata": {},
   "outputs": [],
   "source": []
  },
  {
   "cell_type": "markdown",
   "id": "214b63e5-e36f-46c9-bf84-1ea9929381e7",
   "metadata": {},
   "source": [
    "# Operators: Operators are used to perform operations on variables and values "
   ]
  },
  {
   "cell_type": "code",
   "execution_count": null,
   "id": "97503e78-d793-44ed-b1ea-49e26a5e3414",
   "metadata": {},
   "outputs": [],
   "source": [
    "#Comparison Operators: Used to compare two values or variables\n",
    "# Equal (==)\n",
    "# Not Equal (!=)\n",
    "# Greater Than (>)\n",
    "# Less Than (<)\n",
    "# Grater Than or Equal to (>=)\n",
    "# Less Than or Equal to (<=)"
   ]
  },
  {
   "cell_type": "code",
   "execution_count": 106,
   "id": "74133176-10a2-4efb-b9df-7f33cc6b9e23",
   "metadata": {},
   "outputs": [
    {
     "data": {
      "text/plain": [
       "True"
      ]
     },
     "execution_count": 106,
     "metadata": {},
     "output_type": "execute_result"
    }
   ],
   "source": [
    "10 == 10"
   ]
  },
  {
   "cell_type": "code",
   "execution_count": 107,
   "id": "3f36c5a4-aee3-4e38-9565-cfb978816a7f",
   "metadata": {},
   "outputs": [
    {
     "data": {
      "text/plain": [
       "False"
      ]
     },
     "execution_count": 107,
     "metadata": {},
     "output_type": "execute_result"
    }
   ],
   "source": [
    "10 == 3"
   ]
  },
  {
   "cell_type": "code",
   "execution_count": 108,
   "id": "2ed5d6fe-1672-4494-b049-2d086ce3ba61",
   "metadata": {},
   "outputs": [
    {
     "data": {
      "text/plain": [
       "True"
      ]
     },
     "execution_count": 108,
     "metadata": {},
     "output_type": "execute_result"
    }
   ],
   "source": [
    "10 != 15"
   ]
  },
  {
   "cell_type": "code",
   "execution_count": 109,
   "id": "80ec92ff-d1de-4e8b-aab8-f99c87503244",
   "metadata": {},
   "outputs": [
    {
     "data": {
      "text/plain": [
       "False"
      ]
     },
     "execution_count": 109,
     "metadata": {},
     "output_type": "execute_result"
    }
   ],
   "source": [
    "'Cookie' == 'Chocolate'"
   ]
  },
  {
   "cell_type": "code",
   "execution_count": 110,
   "id": "74b9f9f3-c69d-4819-a5e1-6c793dbbd65a",
   "metadata": {},
   "outputs": [
    {
     "data": {
      "text/plain": [
       "False"
      ]
     },
     "execution_count": 110,
     "metadata": {},
     "output_type": "execute_result"
    }
   ],
   "source": [
    "x= 'Vanilla'\n",
    "y= 'Chocolate'\n",
    "\n",
    "x == y"
   ]
  },
  {
   "cell_type": "code",
   "execution_count": 111,
   "id": "decc1a6d-dd94-436f-8ad1-e8ee70b0bbd8",
   "metadata": {},
   "outputs": [
    {
     "data": {
      "text/plain": [
       "True"
      ]
     },
     "execution_count": 111,
     "metadata": {},
     "output_type": "execute_result"
    }
   ],
   "source": [
    "x= 'Vanilla'\n",
    "y= 'Chocolate'\n",
    "\n",
    "x != y"
   ]
  },
  {
   "cell_type": "code",
   "execution_count": 112,
   "id": "62a958c3-3ba9-470d-9d52-ec6443f1142d",
   "metadata": {},
   "outputs": [
    {
     "data": {
      "text/plain": [
       "False"
      ]
     },
     "execution_count": 112,
     "metadata": {},
     "output_type": "execute_result"
    }
   ],
   "source": [
    "10 < 10"
   ]
  },
  {
   "cell_type": "code",
   "execution_count": 113,
   "id": "1c188ca5-705d-4d2c-9396-6bfe068aa505",
   "metadata": {},
   "outputs": [
    {
     "data": {
      "text/plain": [
       "True"
      ]
     },
     "execution_count": 113,
     "metadata": {},
     "output_type": "execute_result"
    }
   ],
   "source": [
    "10 <= 10"
   ]
  },
  {
   "cell_type": "code",
   "execution_count": 114,
   "id": "da3bb7eb-53bd-48a7-a374-e12dcba647d9",
   "metadata": {},
   "outputs": [
    {
     "data": {
      "text/plain": [
       "True"
      ]
     },
     "execution_count": 114,
     "metadata": {},
     "output_type": "execute_result"
    }
   ],
   "source": [
    "50 > 10"
   ]
  },
  {
   "cell_type": "code",
   "execution_count": 1,
   "id": "8c08754c-3c35-4f9a-b195-c5e8421da443",
   "metadata": {},
   "outputs": [
    {
     "data": {
      "text/plain": [
       "True"
      ]
     },
     "execution_count": 1,
     "metadata": {},
     "output_type": "execute_result"
    }
   ],
   "source": [
    "50 >= 10"
   ]
  },
  {
   "cell_type": "code",
   "execution_count": 2,
   "id": "31b50e5c-90fa-40c4-b755-21327c99290a",
   "metadata": {},
   "outputs": [],
   "source": [
    "# Logical operators: These are actually can be combined with comparion operators\n",
    "# And: Returns True if both statements are true\n",
    "# Or: Returns True if one of the statement is true\n",
    "# Not: Reverse the result, returns False if the result is true"
   ]
  },
  {
   "cell_type": "code",
   "execution_count": 3,
   "id": "252d1696-03a5-46a6-8260-41b68ad61b75",
   "metadata": {},
   "outputs": [
    {
     "data": {
      "text/plain": [
       "False"
      ]
     },
     "execution_count": 3,
     "metadata": {},
     "output_type": "execute_result"
    }
   ],
   "source": [
    "(10>50) and (50>10)"
   ]
  },
  {
   "cell_type": "code",
   "execution_count": 5,
   "id": "c5081602-81f7-4e75-b8bf-a64988fe3785",
   "metadata": {},
   "outputs": [
    {
     "data": {
      "text/plain": [
       "True"
      ]
     },
     "execution_count": 5,
     "metadata": {},
     "output_type": "execute_result"
    }
   ],
   "source": [
    "(10>9) and (10<50)"
   ]
  },
  {
   "cell_type": "code",
   "execution_count": 6,
   "id": "b3e24893-35a0-4c2d-940f-66f3b7f40b37",
   "metadata": {},
   "outputs": [
    {
     "data": {
      "text/plain": [
       "True"
      ]
     },
     "execution_count": 6,
     "metadata": {},
     "output_type": "execute_result"
    }
   ],
   "source": [
    "(10>50) or (50>10)"
   ]
  },
  {
   "cell_type": "code",
   "execution_count": 9,
   "id": "729a3f81-18ba-49dc-973d-26956ce75111",
   "metadata": {},
   "outputs": [
    {
     "data": {
      "text/plain": [
       "False"
      ]
     },
     "execution_count": 9,
     "metadata": {},
     "output_type": "execute_result"
    }
   ],
   "source": [
    "(10>50) or (50<10)"
   ]
  },
  {
   "cell_type": "code",
   "execution_count": 12,
   "id": "1266c9f2-985d-40bc-a43d-595b8bd57b7e",
   "metadata": {},
   "outputs": [
    {
     "data": {
      "text/plain": [
       "False"
      ]
     },
     "execution_count": 12,
     "metadata": {},
     "output_type": "execute_result"
    }
   ],
   "source": [
    "not (10<50)"
   ]
  },
  {
   "cell_type": "code",
   "execution_count": null,
   "id": "2976ad4d-9f6f-411b-a427-4bda4f192ad0",
   "metadata": {},
   "outputs": [],
   "source": []
  },
  {
   "cell_type": "code",
   "execution_count": null,
   "id": "0f659ea1-b9a6-4456-a718-7eb4fa650ca7",
   "metadata": {},
   "outputs": [],
   "source": [
    "# Membership Operators: We use this to check if something whether it's a value or string is within another value or string or sequence\n",
    "# In: Returns True if a sequence with the specified values is present in the object\n",
    "# Not in: Returns True if a sequence with the specified value is not present in the object"
   ]
  },
  {
   "cell_type": "code",
   "execution_count": 13,
   "id": "29a95b49-7154-4c74-9eb0-67c38359b18b",
   "metadata": {},
   "outputs": [
    {
     "data": {
      "text/plain": [
       "True"
      ]
     },
     "execution_count": 13,
     "metadata": {},
     "output_type": "execute_result"
    }
   ],
   "source": [
    "ice_cream= 'Cassie loves nandos so much'\n",
    "'nandos' in ice_cream"
   ]
  },
  {
   "cell_type": "code",
   "execution_count": 14,
   "id": "822e5b50-b501-4509-a280-088ef1bbf33f",
   "metadata": {},
   "outputs": [
    {
     "data": {
      "text/plain": [
       "True"
      ]
     },
     "execution_count": 14,
     "metadata": {},
     "output_type": "execute_result"
    }
   ],
   "source": [
    "'nandos' in 'Cassie loves nandos so much'"
   ]
  },
  {
   "cell_type": "code",
   "execution_count": 15,
   "id": "abc34ab8-507f-403f-af61-3561eb6c12b9",
   "metadata": {},
   "outputs": [
    {
     "data": {
      "text/plain": [
       "True"
      ]
     },
     "execution_count": 15,
     "metadata": {},
     "output_type": "execute_result"
    }
   ],
   "source": [
    "scoops= [1,2,3,4,5,6]\n",
    "2 in scoops"
   ]
  },
  {
   "cell_type": "code",
   "execution_count": 16,
   "id": "aa9569b3-fd8c-4c8c-ad33-7b19a63d085b",
   "metadata": {},
   "outputs": [
    {
     "data": {
      "text/plain": [
       "True"
      ]
     },
     "execution_count": 16,
     "metadata": {},
     "output_type": "execute_result"
    }
   ],
   "source": [
    "scoops= [1,2,3,4,5,6]\n",
    "7 not in scoops"
   ]
  },
  {
   "cell_type": "code",
   "execution_count": 17,
   "id": "5b7d2626-a017-4d1b-bed6-3e7e759ecfd9",
   "metadata": {},
   "outputs": [
    {
     "data": {
      "text/plain": [
       "False"
      ]
     },
     "execution_count": 17,
     "metadata": {},
     "output_type": "execute_result"
    }
   ],
   "source": [
    "scoops= [1,2,3,4,5,6]\n",
    "wanted_scoops= 8\n",
    "\n",
    "wanted_scoops in scoops"
   ]
  },
  {
   "cell_type": "markdown",
   "id": "76232c30-dcdb-4702-944b-81fc196ea89c",
   "metadata": {},
   "source": [
    "# If - Elif - Else Statements"
   ]
  },
  {
   "cell_type": "code",
   "execution_count": 18,
   "id": "6a7ad7fe-150e-469f-bbf4-415844e2141d",
   "metadata": {},
   "outputs": [],
   "source": [
    "# If the If condition is true we will run a body of code, if it is false we will run a Elif statement. If the Elif statement is true we will run a body of code, if its false will run Else statement."
   ]
  },
  {
   "cell_type": "code",
   "execution_count": 19,
   "id": "a782d84e-45e4-4a61-a43b-187520e4a8e6",
   "metadata": {},
   "outputs": [
    {
     "name": "stdout",
     "output_type": "stream",
     "text": [
      "It worked\n"
     ]
    }
   ],
   "source": [
    "if 25 > 10:\n",
    "    print ('It worked')"
   ]
  },
  {
   "cell_type": "code",
   "execution_count": 21,
   "id": "4689d83a-9a54-49ea-8b11-765589293ad9",
   "metadata": {},
   "outputs": [
    {
     "name": "stdout",
     "output_type": "stream",
     "text": [
      "It did not work\n"
     ]
    }
   ],
   "source": [
    "if 25 < 10:\n",
    "    print ('It worked')\n",
    "else:\n",
    "    print ('It did not work')"
   ]
  },
  {
   "cell_type": "code",
   "execution_count": 23,
   "id": "148db449-d0c9-4722-afa3-1b1b71bfbda5",
   "metadata": {},
   "outputs": [
    {
     "name": "stdout",
     "output_type": "stream",
     "text": [
      "Elif worked\n"
     ]
    }
   ],
   "source": [
    "if 25 < 10:\n",
    "    print ('It worked')\n",
    "elif 25 < 30:\n",
    "    print ('Elif worked')\n",
    "else:\n",
    "    print ('It did not work')"
   ]
  },
  {
   "cell_type": "code",
   "execution_count": 25,
   "id": "1873cd66-37e5-433e-acdf-fa8c938fb0e1",
   "metadata": {},
   "outputs": [
    {
     "name": "stdout",
     "output_type": "stream",
     "text": [
      "Elif 3 worked\n"
     ]
    }
   ],
   "source": [
    "if 25 < 10:\n",
    "    print ('It worked')\n",
    "elif 25 < 20:\n",
    "    print ('Elif 1 worked')\n",
    "elif 25 < 21:\n",
    "    print ('Elif 2 worked')\n",
    "elif 25 < 30:\n",
    "    print ('Elif 3 worked')\n",
    "elif 25 < 40:\n",
    "    print ('Elif 4 worked')\n",
    "elif 25 < 50:\n",
    "    print ('Elif 5 worked')\n",
    "else:\n",
    "    print ('It did not work')"
   ]
  },
  {
   "cell_type": "code",
   "execution_count": 26,
   "id": "84ad5d34-f65a-4584-b264-91467a09b216",
   "metadata": {},
   "outputs": [
    {
     "name": "stdout",
     "output_type": "stream",
     "text": [
      "It worked\n"
     ]
    }
   ],
   "source": [
    "if (25 < 10) or (1 < 3):\n",
    "    print ('It worked')\n",
    "elif 25 < 20:\n",
    "    print ('Elif 1 worked')\n",
    "elif 25 < 21:\n",
    "    print ('Elif 2 worked')\n",
    "elif 25 < 30:\n",
    "    print ('Elif 3 worked')\n",
    "elif 25 < 40:\n",
    "    print ('Elif 4 worked')\n",
    "elif 25 < 50:\n",
    "    print ('Elif 5 worked')\n",
    "else:\n",
    "    print ('It did not work')"
   ]
  },
  {
   "cell_type": "code",
   "execution_count": 27,
   "id": "c28b0ef7-66f1-40c9-87e3-6575a901be61",
   "metadata": {},
   "outputs": [
    {
     "name": "stdout",
     "output_type": "stream",
     "text": [
      "It didnt worked\n"
     ]
    }
   ],
   "source": [
    "print('It worked') if 10 > 30 else print ('It didnt worked')"
   ]
  },
  {
   "cell_type": "code",
   "execution_count": 28,
   "id": "81f80c47-0b44-406f-aac5-a6744c6f2382",
   "metadata": {},
   "outputs": [
    {
     "name": "stdout",
     "output_type": "stream",
     "text": [
      "It worked\n",
      "This nested if statement worked\n"
     ]
    }
   ],
   "source": [
    "#Nested If\n",
    "\n",
    "if (25 < 10) or (1 < 3):\n",
    "    print ('It worked')\n",
    "    if 10 > 5:\n",
    "        print('This nested if statement worked')\n",
    "elif 25 < 20:\n",
    "    print ('Elif 1 worked')\n",
    "elif 25 < 21:\n",
    "    print ('Elif 2 worked')\n",
    "elif 25 < 30:\n",
    "    print ('Elif 3 worked')\n",
    "elif 25 < 40:\n",
    "    print ('Elif 4 worked')\n",
    "elif 25 < 50:\n",
    "    print ('Elif 5 worked')\n",
    "else:\n",
    "    print ('It did not work')"
   ]
  },
  {
   "cell_type": "markdown",
   "id": "16f61ee5-3937-4d21-966b-e06e9896e2fa",
   "metadata": {},
   "source": [
    "# Loops: "
   ]
  },
  {
   "cell_type": "markdown",
   "id": "d88a485f-3a88-49be-9857-5a7e3b758e2b",
   "metadata": {},
   "source": [
    "# For Loop"
   ]
  },
  {
   "cell_type": "code",
   "execution_count": 30,
   "id": "a517a7a5-b702-4172-8485-1781ebffa910",
   "metadata": {},
   "outputs": [],
   "source": [
    "#For loops iterate over a sequence, which could be a list, tuple, array, string, dictionary.For loop will start by looking into the first element in the sequence, it will ask is this the last element we reached, if yes, it will exit the for loop and the statemnt after the for loop will run if not then it goes into the body of for loop and take the next element, this process keeps on going until it reach the final element in our sequence or list"
   ]
  },
  {
   "cell_type": "code",
   "execution_count": 31,
   "id": "0b88c4cf-50a2-4d1d-a469-18e5b154daee",
   "metadata": {},
   "outputs": [],
   "source": [
    "integers= [1,2,3,4,5]"
   ]
  },
  {
   "cell_type": "code",
   "execution_count": 32,
   "id": "54205575-a058-4898-9a03-3ee8c07a693e",
   "metadata": {},
   "outputs": [
    {
     "name": "stdout",
     "output_type": "stream",
     "text": [
      "1\n",
      "2\n",
      "3\n",
      "4\n",
      "5\n"
     ]
    }
   ],
   "source": [
    "for number in integers:\n",
    "    print(number)"
   ]
  },
  {
   "cell_type": "code",
   "execution_count": 33,
   "id": "d3d87df7-7092-4879-b20f-e7ed14d01921",
   "metadata": {},
   "outputs": [
    {
     "name": "stdout",
     "output_type": "stream",
     "text": [
      "yeah!\n",
      "yeah!\n",
      "yeah!\n",
      "yeah!\n",
      "yeah!\n"
     ]
    }
   ],
   "source": [
    "for number in integers:\n",
    "    print('yeah!')"
   ]
  },
  {
   "cell_type": "code",
   "execution_count": 34,
   "id": "494c70c5-c617-4397-9fbd-4036ba1b3f0d",
   "metadata": {},
   "outputs": [
    {
     "name": "stdout",
     "output_type": "stream",
     "text": [
      "2\n",
      "4\n",
      "6\n",
      "8\n",
      "10\n"
     ]
    }
   ],
   "source": [
    "for jelly in integers:\n",
    "    print(jelly + jelly)"
   ]
  },
  {
   "cell_type": "code",
   "execution_count": 35,
   "id": "c21719ca-0ec9-4733-8b4b-833729fb5f1e",
   "metadata": {},
   "outputs": [],
   "source": [
    "ice_cream_dict= {'name': 'Alex', 'weekly intake': 5, 'favoriate ice creams': ['MCC', 'Chocolate']}"
   ]
  },
  {
   "cell_type": "code",
   "execution_count": 36,
   "id": "3332517c-b8b0-47a6-8077-38d8d3ce2fc7",
   "metadata": {},
   "outputs": [
    {
     "name": "stdout",
     "output_type": "stream",
     "text": [
      "Alex\n",
      "5\n",
      "['MCC', 'Chocolate']\n"
     ]
    }
   ],
   "source": [
    "for cream in ice_cream_dict.values():\n",
    "    print(cream)"
   ]
  },
  {
   "cell_type": "code",
   "execution_count": 38,
   "id": "d235304d-ff8e-49fd-bef1-0bb75f437387",
   "metadata": {},
   "outputs": [
    {
     "name": "stdout",
     "output_type": "stream",
     "text": [
      "name -> Alex\n",
      "weekly intake -> 5\n",
      "favoriate ice creams -> ['MCC', 'Chocolate']\n"
     ]
    }
   ],
   "source": [
    "for key, value in ice_cream_dict.items():\n",
    "    print(key, '->', value)"
   ]
  },
  {
   "cell_type": "markdown",
   "id": "3290520f-005c-4936-9906-31ef76a2cc07",
   "metadata": {},
   "source": [
    "# Nested For Loops"
   ]
  },
  {
   "cell_type": "code",
   "execution_count": 39,
   "id": "aafefe1d-2081-48e2-b9e7-d97888bb2f2a",
   "metadata": {},
   "outputs": [],
   "source": [
    "flavours= ['Vanilla', 'Chocolate', 'Butterscortch']\n",
    "toppings= ['Hot Fudge', 'Oreos', 'Marshmellows']"
   ]
  },
  {
   "cell_type": "code",
   "execution_count": 40,
   "id": "7ac87fe9-3aae-42e1-90f9-46c4a78d055b",
   "metadata": {},
   "outputs": [
    {
     "name": "stdout",
     "output_type": "stream",
     "text": [
      "Vanilla topped with Hot Fudge\n",
      "Vanilla topped with Oreos\n",
      "Vanilla topped with Marshmellows\n",
      "Chocolate topped with Hot Fudge\n",
      "Chocolate topped with Oreos\n",
      "Chocolate topped with Marshmellows\n",
      "Butterscortch topped with Hot Fudge\n",
      "Butterscortch topped with Oreos\n",
      "Butterscortch topped with Marshmellows\n"
     ]
    }
   ],
   "source": [
    "for one in flavours:\n",
    "    for two in toppings:\n",
    "        print(one, 'topped with', two)"
   ]
  },
  {
   "cell_type": "markdown",
   "id": "706fd15d-0202-4758-a91d-fc2f3b24acc4",
   "metadata": {},
   "source": [
    "# While Loops"
   ]
  },
  {
   "cell_type": "code",
   "execution_count": null,
   "id": "612dabca-7819-4253-88ec-2d153f135a08",
   "metadata": {},
   "outputs": [],
   "source": [
    "# While loops iterate over a lock of code as long as the test condition is True. While loop enter the test condition, if it is True then the body of the while loop will run and again goes back to test condition. Now if its falsu it will exit the while and stop iterating."
   ]
  },
  {
   "cell_type": "code",
   "execution_count": 43,
   "id": "aed92bcd-43d6-4321-a490-a0c8b563377c",
   "metadata": {},
   "outputs": [
    {
     "name": "stdout",
     "output_type": "stream",
     "text": [
      "0\n",
      "1\n",
      "2\n",
      "3\n",
      "4\n"
     ]
    }
   ],
   "source": [
    "number = 0\n",
    "\n",
    "while number < 5:\n",
    "    print (number)\n",
    "    number = number + 1"
   ]
  },
  {
   "cell_type": "code",
   "execution_count": 48,
   "id": "48b48fc2-745b-4f40-8a9f-d47628da7ce2",
   "metadata": {},
   "outputs": [
    {
     "name": "stdout",
     "output_type": "stream",
     "text": [
      "0\n",
      "1\n",
      "2\n",
      "3\n"
     ]
    }
   ],
   "source": [
    "#Break Statement: Break statement stops the while loop if the \"if condition\" is met\n",
    "\n",
    "number = 0\n",
    "\n",
    "while number < 5:\n",
    "    print (number)\n",
    "    if number == 3:\n",
    "        break\n",
    "    number = number + 1"
   ]
  },
  {
   "cell_type": "code",
   "execution_count": 49,
   "id": "65ac4aaf-b8ba-4157-be4a-4e815c6217d1",
   "metadata": {},
   "outputs": [
    {
     "name": "stdout",
     "output_type": "stream",
     "text": [
      "0\n",
      "1\n",
      "2\n",
      "3\n",
      "4\n",
      "No longer < 5\n"
     ]
    }
   ],
   "source": [
    "number = 0\n",
    "\n",
    "while number < 5:\n",
    "    print (number)\n",
    "    if number == 6:\n",
    "        break\n",
    "    number = number + 1\n",
    "else:\n",
    "    print('No longer < 5')"
   ]
  },
  {
   "cell_type": "code",
   "execution_count": 52,
   "id": "45371d97-83d6-4536-a257-b4df2dbdc825",
   "metadata": {},
   "outputs": [
    {
     "name": "stdout",
     "output_type": "stream",
     "text": [
      "1\n",
      "2\n",
      "4\n",
      "5\n",
      "No longer < 5\n"
     ]
    }
   ],
   "source": [
    "#Continue Statement: If the continue statement is triggered it rejects all remaining statements in the current iteration of the loop and then goes to next iteration\n",
    "\n",
    "number = 0\n",
    "\n",
    "while number < 5:\n",
    "    number = number + 1\n",
    "    if number == 3:\n",
    "        continue\n",
    "    print (number)\n",
    "else:\n",
    "    print('No longer < 5')"
   ]
  },
  {
   "cell_type": "markdown",
   "id": "d31c3e18-b549-4d33-8118-05d3a77f5f3d",
   "metadata": {},
   "source": [
    "# Functions"
   ]
  },
  {
   "cell_type": "code",
   "execution_count": null,
   "id": "320da173-d904-4eb9-acdd-d8a1894588ba",
   "metadata": {},
   "outputs": [],
   "source": []
  },
  {
   "cell_type": "code",
   "execution_count": null,
   "id": "5fa5f03a-fae5-4968-8a6a-b0d2e94018ed",
   "metadata": {},
   "outputs": [],
   "source": []
  },
  {
   "cell_type": "code",
   "execution_count": null,
   "id": "d6a9c76d-fe07-4f2d-a162-d9d0ab3c94f4",
   "metadata": {},
   "outputs": [],
   "source": []
  },
  {
   "cell_type": "code",
   "execution_count": null,
   "id": "59ba1218-3091-44d7-9f72-7d2158a6a559",
   "metadata": {},
   "outputs": [],
   "source": []
  },
  {
   "cell_type": "code",
   "execution_count": null,
   "id": "95778f8c-a5e5-4ff3-aa96-d9cbd34b0831",
   "metadata": {},
   "outputs": [],
   "source": []
  },
  {
   "cell_type": "code",
   "execution_count": null,
   "id": "f6f9818b-8a6a-4000-837a-edaded6b932b",
   "metadata": {},
   "outputs": [],
   "source": []
  }
 ],
 "metadata": {
  "kernelspec": {
   "display_name": "Python [conda env:base] *",
   "language": "python",
   "name": "conda-base-py"
  },
  "language_info": {
   "codemirror_mode": {
    "name": "ipython",
    "version": 3
   },
   "file_extension": ".py",
   "mimetype": "text/x-python",
   "name": "python",
   "nbconvert_exporter": "python",
   "pygments_lexer": "ipython3",
   "version": "3.13.5"
  }
 },
 "nbformat": 4,
 "nbformat_minor": 5
}
